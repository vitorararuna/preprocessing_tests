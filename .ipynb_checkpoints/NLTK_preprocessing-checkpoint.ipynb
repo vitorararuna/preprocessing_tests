{
 "cells": [
  {
   "cell_type": "markdown",
   "id": "welsh-chain",
   "metadata": {},
   "source": [
    "Imports for pre-processing aid:"
   ]
  },
  {
   "cell_type": "code",
   "execution_count": null,
   "id": "unknown-better",
   "metadata": {},
   "outputs": [],
   "source": [
    "from nltk.stem import PorterStemmer, SnowballStemmer, RSLPStemmer\n",
    "import nltk\n",
    "import unicodedata\n",
    "import re"
   ]
  },
  {
   "cell_type": "raw",
   "id": "convinced-checklist",
   "metadata": {},
   "source": [
    "Base Text:"
   ]
  },
  {
   "cell_type": "code",
   "execution_count": null,
   "id": "timely-advantage",
   "metadata": {},
   "outputs": [],
   "source": [
    "texto = \"\"\"O SECRETÁRIO DE ESTADO DE EDUCAÇÃO DO DISTRITO FEDERAL, no uso das atribuições que lhe confere o artigo 182, inciso XVIII do Regimento Interno desta Pasta, aprovado pelo Decreto nº 38.631, de 20 de novembro de 2017, e tendo em vista o disposto no Parecer nº 112/2020-CEDF, de 8 de dezembro de 2020, do Conselho de Educação do Distrito Federal, aprovado em Sessão Plenária de igual data, e, ainda, o que consta no Processo SEI-GDF nº 00080-00162908/2020-70, resolve:\n",
    "Art. 1º Aprovar o Currículo em Movimento do Novo Ensino Médio da rede pública de ensino do Distrito Federal.\n",
    "Art. 2º Tornar o Currículo ora aprovado referencial para a fundamentação teórica da organização curricular do Novo Ensino Médio para a rede privada de ensino do Distrito Federal.\n",
    "Art. 3º Determinar que a rede pública de ensino do Distrito Federal encaminhe para análise e deliberação deste Conselho de Educação as Diretrizes Curriculares e de Avaliação para o Novo Ensino Médio, até 30 de dezembro de 2021, conforme o art. 286 da Resolução nº 2/2020-CEDF.\n",
    "Art. 4º Determinar à Subsecretaria de Educação Básica - SUBEB e à Subsecretaria de Planejamento, Acompanhamento e Avaliação - SUPLAV, setores próprios da Secretaria de Estado de Educação do Distrito Federal, que deem amplo conhecimento do presente parecer, após sua homologação, às redes pública e privada de ensino do Distrito Federal.\n",
    "Art. 5º Esta Portaria entra em vigor na data de sua publicação\"\"\""
   ]
  },
  {
   "cell_type": "raw",
   "id": "serious-biotechnology",
   "metadata": {},
   "source": [
    "Tokenization:    "
   ]
  },
  {
   "cell_type": "code",
   "execution_count": null,
   "id": "lesbian-rocket",
   "metadata": {},
   "outputs": [],
   "source": [
    "tokens_words = nltk.word_tokenize(texto, language='portuguese')\n",
    "#print(tokens_words)"
   ]
  },
  {
   "cell_type": "raw",
   "id": "worst-clear",
   "metadata": {},
   "source": [
    "Remove stop-words:"
   ]
  },
  {
   "cell_type": "code",
   "execution_count": null,
   "id": "foreign-continent",
   "metadata": {},
   "outputs": [],
   "source": [
    "stopwords = nltk.corpus.stopwords.words('portuguese')\n",
    "def removeStopWords(tokens):\n",
    "    newText = []\n",
    "    for tks in tokens:\n",
    "        if tks not in stopwords:\n",
    "            newText.append(tks)\n",
    "    return newText"
   ]
  },
  {
   "cell_type": "markdown",
   "id": "therapeutic-outreach",
   "metadata": {},
   "source": [
    "Steamming PT-BR:"
   ]
  },
  {
   "cell_type": "code",
   "execution_count": null,
   "id": "distinguished-participant",
   "metadata": {},
   "outputs": [],
   "source": [
    "ss = RSLPStemmer()  # BR\n",
    "st = SnowballStemmer('portuguese')  # BR\n",
    "\n",
    "\n",
    "def aplicarStemming(tokens):\n",
    "    nexText = []\n",
    "    for tks in tokens:\n",
    "        if tks not in stopwords:\n",
    "            nexText.append(st.stem(tks))\n",
    "    print(nexText)\n",
    "\n",
    "aplicarStemming(tokens_words)"
   ]
  },
  {
   "cell_type": "raw",
   "id": "uniform-heather",
   "metadata": {},
   "source": [
    "Remove characters and accents:"
   ]
  },
  {
   "cell_type": "code",
   "execution_count": null,
   "id": "established-terminal",
   "metadata": {},
   "outputs": [],
   "source": [
    "def normalized_NFD_encode(string):\n",
    "    normalized = unicodedata.normalize('NFD', string)\n",
    "    return(normalized.encode('ascii', 'ignore').decode('utf8'))\n",
    "\n",
    "\n",
    "def NFD(tokens):  # Normalização que mantém caracteres separados\n",
    "    newText = []\n",
    "    for tks in tokens:\n",
    "        newWord = normalized_NFD_encode(tks)\n",
    "        newText.append(newWord)\n",
    "    return(newText)\n",
    "\n",
    "\n",
    "def removerCAracteresEspeciais(tokens):\n",
    "    newText = []\n",
    "    for tks in tokens:\n",
    "        newWord = re.sub('[^a-zA-Z0-9 \\\\\\]', '', tks)\n",
    "        newText.append(newWord)\n",
    "    print(newText)"
   ]
  },
  {
   "cell_type": "raw",
   "id": "extended-serum",
   "metadata": {},
   "source": [
    "Perform pre-processing:"
   ]
  },
  {
   "cell_type": "code",
   "execution_count": null,
   "id": "disturbed-steel",
   "metadata": {},
   "outputs": [],
   "source": [
    "print(\"---------------------------------------------------------------------------------------------------------\")\n",
    "semStop = removeStopWords(tokens_words)\n",
    "normalize_ = NFD(semStop)\n",
    "result_ = removerCAracteresEspeciais(normalize_)"
   ]
  }
 ],
 "metadata": {
  "kernelspec": {
   "display_name": "Python 3",
   "language": "python",
   "name": "python3"
  },
  "language_info": {
   "codemirror_mode": {
    "name": "ipython",
    "version": 3
   },
   "file_extension": ".py",
   "mimetype": "text/x-python",
   "name": "python",
   "nbconvert_exporter": "python",
   "pygments_lexer": "ipython3",
   "version": "3.8.5"
  }
 },
 "nbformat": 4,
 "nbformat_minor": 5
}
