{
 "cells": [
  {
   "cell_type": "raw",
   "id": "smooth-african",
   "metadata": {},
   "source": [
    "Imports: \n",
    "- Beautifulsoup for web scraping\n",
    "- Requests\n",
    "- OS for formatting folder paths"
   ]
  },
  {
   "cell_type": "code",
   "execution_count": 1,
   "id": "thermal-system",
   "metadata": {},
   "outputs": [],
   "source": [
    "from bs4 import BeautifulSoup\n",
    "import requests\n",
    "import os"
   ]
  },
  {
   "cell_type": "raw",
   "id": "alert-metabolism",
   "metadata": {},
   "source": [
    "Download Function:"
   ]
  },
  {
   "cell_type": "code",
   "execution_count": 2,
   "id": "incomplete-effectiveness",
   "metadata": {},
   "outputs": [],
   "source": [
    "def download(url, endereco):\n",
    "    resposta = requests.get(url)  # retorna binarios que compoe o arq\n",
    "\n",
    "    try:\n",
    "        with open(endereco, 'wb') as novo_arquivo:  # wb: escrita e binario\n",
    "            novo_arquivo.write(resposta.content)\n",
    "        print('Download salvo em {}'.format(endereco))\n",
    "    except:\n",
    "        print('Ocorreu um Erro')"
   ]
  },
  {
   "cell_type": "raw",
   "id": "informal-mongolia",
   "metadata": {},
   "source": [
    "Month formatting:"
   ]
  },
  {
   "cell_type": "code",
   "execution_count": 3,
   "id": "strange-juvenile",
   "metadata": {},
   "outputs": [],
   "source": [
    "MONTHS_STRING = [\"\", \"01_Janeiro\", \"02_Fevereiro\", \"03_Mar%E7o\", \"04_Abril\",\n",
    "                 \"05_Maio\", \"06_Junho\", \"07_Julho\", \"08_Agosto\",\n",
    "                 \"09_Setembro\", \"10_Outubro\", \"11_Novembro\", \"12_Dezembro\"]\n"
   ]
  },
  {
   "cell_type": "code",
   "execution_count": 4,
   "id": "brief-charge",
   "metadata": {},
   "outputs": [
    {
     "name": "stdin",
     "output_type": "stream",
     "text": [
      "Escolha um ano: 2020\n",
      "Escolha um mes: 2\n"
     ]
    }
   ],
   "source": [
    "ano = int(input('Escolha um ano:'))\n",
    "mes = int(input('Escolha um mes:'))"
   ]
  },
  {
   "cell_type": "code",
   "execution_count": 5,
   "id": "naked-glasgow",
   "metadata": {},
   "outputs": [],
   "source": [
    "mes_format = \"\"\n",
    "for y in range(0, 13):\n",
    "    if(mes == y):\n",
    "        mes_format = MONTHS_STRING[y]"
   ]
  },
  {
   "cell_type": "raw",
   "id": "particular-venture",
   "metadata": {},
   "source": [
    "Base website URL:"
   ]
  },
  {
   "cell_type": "code",
   "execution_count": 6,
   "id": "swiss-harvard",
   "metadata": {},
   "outputs": [],
   "source": [
    "url_ = \"http://www.buriti.df.gov.br/ftp/novo_portal_gdf/novo_dodf.asp?Ano={}&Mes={}&dir=\".format(\n",
    "    ano, mes_format)"
   ]
  },
  {
   "cell_type": "code",
   "execution_count": 7,
   "id": "palestinian-heath",
   "metadata": {},
   "outputs": [],
   "source": [
    "r = requests.get(url_)\n",
    "soup = BeautifulSoup(r.content, 'html.parser')"
   ]
  },
  {
   "cell_type": "raw",
   "id": "integral-cooperation",
   "metadata": {},
   "source": [
    "Find Options:"
   ]
  },
  {
   "cell_type": "code",
   "execution_count": 8,
   "id": "popular-coast",
   "metadata": {},
   "outputs": [],
   "source": [
    "select = soup.find('select', attrs={\n",
    "    'class': 'chzn-select', 'data-placeholder': 'Selecione o Diário...'})\n",
    "options = select.find_all('option')"
   ]
  },
  {
   "cell_type": "raw",
   "id": "hundred-language",
   "metadata": {},
   "source": [
    "DODF CHOICE:"
   ]
  },
  {
   "cell_type": "code",
   "execution_count": 9,
   "id": "satisfied-canon",
   "metadata": {},
   "outputs": [
    {
     "name": "stdout",
     "output_type": "stream",
     "text": [
      "Opção 1 : DODF 010 04-02-2020 EDICAO EXTRA\n",
      "Opção 2 : DODF 011 05-02-2020 EDICAO EXTRA\n",
      "Opção 3 : DODF 012 06-02-2020 EDICAO EXTRA\n",
      "Opção 4 : DODF 013 07-02-2020 EDICAO EXTRA\n",
      "Opção 5 : DODF 014 10-02-2020 EDICAO EXTRA\n",
      "Opção 6 : DODF 015 11-02-2020 EDICAO EXTRA\n",
      "Opção 7 : DODF 016 13-02-2020 EDICAO EXTRA\n",
      "Opção 8 : DODF 017 17-02-2020 EDICAO EXTRA\n",
      "Opção 9 : DODF 018 19-02-2020 EDICAO EXTRA\n",
      "Opção 10 : DODF 019 20-02-2020 EDICAO EXTRA\n",
      "Opção 11 : DODF 020 21-02-2020 EDICAO EXTRA\n",
      "Opção 12 : DODF 021 28-02-2020 EDICAO EXTRA\n",
      "Opção 13 : DODF 023 03-02-2020\n",
      "Opção 14 : DODF 024 04-02-2020\n",
      "Opção 15 : DODF 025 05-02-2020\n",
      "Opção 16 : DODF 026 06-02-2020\n",
      "Opção 17 : DODF 027 07-02-2020\n",
      "Opção 18 : DODF 028 10-02-2020\n",
      "Opção 19 : DODF 029 11-02-2020\n",
      "Opção 20 : DODF 030 12-02-2020\n",
      "Opção 21 : DODF 031 13-02-2020\n",
      "Opção 22 : DODF 032 14-02-2020\n",
      "Opção 23 : DODF 033 17-02-2020\n",
      "Opção 24 : DODF 034 18-02-2020\n",
      "Opção 25 : DODF 035 19-02-2020\n",
      "Opção 26 : DODF 036 20-02-2020\n",
      "Opção 27 : DODF 037 21-02-2020\n",
      "Opção 28 : DODF 038 27-02-2020\n",
      "Opção 29 : DODF 039 28-02-2020\n"
     ]
    },
    {
     "name": "stdin",
     "output_type": "stream",
     "text": [
      "Escolha uma opção: 29\n"
     ]
    }
   ],
   "source": [
    "for c in range(1, len(options)):\n",
    "    print('Opção {} : {}'.format(c, options[c].text))\n",
    "opcao = int(input('Escolha uma opção:'))\n",
    "txt = options[opcao].text\n",
    "txt_cadeia = txt.split()"
   ]
  },
  {
   "cell_type": "raw",
   "id": "equipped-causing",
   "metadata": {},
   "source": [
    "New URL after choice:"
   ]
  },
  {
   "cell_type": "code",
   "execution_count": 10,
   "id": "anonymous-sitting",
   "metadata": {},
   "outputs": [],
   "source": [
    "for d in range(0, len(txt_cadeia)):\n",
    "    if(d == len(txt_cadeia)-1):\n",
    "        url_ = url_+txt_cadeia[d]\n",
    "    else:\n",
    "        url_ = url_+txt_cadeia[d]+'+'\n",
    "url_link = url_"
   ]
  },
  {
   "cell_type": "code",
   "execution_count": 11,
   "id": "mexican-married",
   "metadata": {},
   "outputs": [],
   "source": [
    "rr = requests.get(url_link)\n",
    "soup2 = BeautifulSoup(rr.content, 'html.parser')"
   ]
  },
  {
   "cell_type": "raw",
   "id": "stock-squad",
   "metadata": {},
   "source": [
    "Find Links:"
   ]
  },
  {
   "cell_type": "code",
   "execution_count": 12,
   "id": "practical-aircraft",
   "metadata": {},
   "outputs": [],
   "source": [
    "find_links = soup2.find_all('a')\n",
    "links = []"
   ]
  },
  {
   "cell_type": "raw",
   "id": "western-institution",
   "metadata": {},
   "source": [
    "Base website URL for pdf:"
   ]
  },
  {
   "cell_type": "code",
   "execution_count": 13,
   "id": "frozen-wilson",
   "metadata": {},
   "outputs": [],
   "source": [
    "base = \"http://www.buriti.df.gov.br/ftp\""
   ]
  },
  {
   "cell_type": "raw",
   "id": "robust-terminal",
   "metadata": {},
   "source": [
    "Checking quantity of pdfs:"
   ]
  },
  {
   "cell_type": "code",
   "execution_count": 14,
   "id": "departmental-essex",
   "metadata": {},
   "outputs": [],
   "source": [
    "for link in find_links:\n",
    "    links.append(base+link.get('href')[2:].replace(' ', '%20'))"
   ]
  },
  {
   "cell_type": "raw",
   "id": "intermediate-dealer",
   "metadata": {},
   "source": [
    "calling download function for each pdf"
   ]
  },
  {
   "cell_type": "code",
   "execution_count": 15,
   "id": "natural-length",
   "metadata": {},
   "outputs": [
    {
     "name": "stdout",
     "output_type": "stream",
     "text": [
      "Download salvo em files/file0.pdf\n"
     ]
    }
   ],
   "source": [
    "count = 0\n",
    "for url in links:\n",
    "    output = os.path.join('files/', 'file{}.pdf'.format(count))\n",
    "    download(url, output)\n",
    "    count += 1"
   ]
  }
 ],
 "metadata": {
  "kernelspec": {
   "display_name": "Python 3",
   "language": "python",
   "name": "python3"
  },
  "language_info": {
   "codemirror_mode": {
    "name": "ipython",
    "version": 3
   },
   "file_extension": ".py",
   "mimetype": "text/x-python",
   "name": "python",
   "nbconvert_exporter": "python",
   "pygments_lexer": "ipython3",
   "version": "3.8.5"
  }
 },
 "nbformat": 4,
 "nbformat_minor": 5
}
