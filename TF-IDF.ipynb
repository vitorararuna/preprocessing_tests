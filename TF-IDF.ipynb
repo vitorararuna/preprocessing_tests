{
 "cells": [
  {
   "cell_type": "raw",
   "id": "random-jaguar",
   "metadata": {},
   "source": [
    "# TF-IDF: Term frequency - inverse documento frequency\n",
    "# --> Frquëncia de um determinado termo & frequencia inversa do documento\n",
    "\n",
    "# Textos serão transformados em números!\n",
    "\n",
    "# ----------------------------------Bag of Words----------------------------------\n",
    "# 1) \"Este é o primeiro documento\"\n",
    "# 2) \"Este documento é o segundo documento\"\n",
    "# --Separar as palavras únicas que aparecem nos 2 documentos:\n",
    "# \"Este é o primeiro segundo documento\"\n",
    "# 1) 1 1 1 1 0 1\n",
    "# 2) 1 1 1 0 1 2\n",
    "# Palavras muito frequëntes \"dominam\" o documento e podem não representar tanta informação sobre o contexto\n",
    "# ----------------------------------Bag of Words----------------------------------\n",
    "\n",
    "\n",
    "# -----------------------------------TF-IDF----------------------------------------\n",
    "# Redimensionar a frequëncia das palavras pela frequëncia com que aparecem todos os documentos\n",
    "# Term Frequency (TF): frequëncia da palavra no documento atual. TF = (nmr de vezes que o termo T aparece no documento) / (nmr de termos no documento)\n",
    "# Inverse Document Frequency (IDF): quão rara é a palavra nos documentos. IDF = log(N/n) onde N= nmr de docs e n= nmr de docs em que o termo apareceu\n",
    "# TF-IDF: Importäncia de uma palavra para um documento em uma coleção\n",
    "# Se TF=0.05 e IDF=0.69 ----> IF-ITF= 0.05 * 0.69\n",
    "# Quanto maior o valor do peso, mais raro é o termo\n",
    "# -----------------------------------TF-IDF----------------------------------------"
   ]
  },
  {
   "cell_type": "raw",
   "id": "ready-monster",
   "metadata": {},
   "source": [
    "Imports for TF-IDF proccess:"
   ]
  },
  {
   "cell_type": "code",
   "execution_count": null,
   "id": "promotional-ecuador",
   "metadata": {},
   "outputs": [],
   "source": [
    "import numpy as np\n",
    "from sklearn.pipeline import Pipeline\n",
    "from sklearn.feature_extraction.text import CountVectorizer, TfidfTransformer"
   ]
  },
  {
   "cell_type": "raw",
   "id": "spanish-butterfly",
   "metadata": {},
   "source": [
    "Documents:"
   ]
  },
  {
   "cell_type": "code",
   "execution_count": null,
   "id": "pretty-blast",
   "metadata": {},
   "outputs": [],
   "source": [
    "corpus = [\n",
    "    \"ainda que mal pergunte\",\n",
    "    \"ainda que mal respondas\",\n",
    "    \"ainda que mal te entenda\",\n",
    "    \"ainda que mal repitas\"\n",
    "]"
   ]
  },
  {
   "cell_type": "raw",
   "id": "sustainable-syndication",
   "metadata": {},
   "source": [
    "Pipeline FUnction:"
   ]
  },
  {
   "cell_type": "code",
   "execution_count": null,
   "id": "indirect-pierre",
   "metadata": {},
   "outputs": [],
   "source": [
    "pipe = Pipeline([\n",
    "    ('count', CountVectorizer()),\n",
    "    ('tfidf', TfidfTransformer())\n",
    "])"
   ]
  },
  {
   "cell_type": "code",
   "execution_count": null,
   "id": "standing-battery",
   "metadata": {},
   "outputs": [],
   "source": [
    "# Fit(realiza as açõs em sequência do meu pipeline) transform(utiliza os dados de CORPUS)\n",
    "vetores = pipe.fit_transform(corpus)\n",
    "vocab = pipe['count'].get_feature_names()"
   ]
  },
  {
   "cell_type": "code",
   "execution_count": null,
   "id": "composite-belief",
   "metadata": {},
   "outputs": [],
   "source": [
    "print(vocab)\n",
    "# print(vetores.toarray())\n",
    "print(np.round(vetores.toarray(), 2))"
   ]
  }
 ],
 "metadata": {
  "kernelspec": {
   "display_name": "Python 3",
   "language": "python",
   "name": "python3"
  },
  "language_info": {
   "codemirror_mode": {
    "name": "ipython",
    "version": 3
   },
   "file_extension": ".py",
   "mimetype": "text/x-python",
   "name": "python",
   "nbconvert_exporter": "python",
   "pygments_lexer": "ipython3",
   "version": "3.8.5"
  }
 },
 "nbformat": 4,
 "nbformat_minor": 5
}
